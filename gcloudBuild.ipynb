{
 "cells": [
  {
   "cell_type": "markdown",
   "source": [
    "MV IaaS instance for Database"
   ],
   "metadata": {
    "collapsed": false
   },
   "id": "ee2cb134516282ba"
  },
  {
   "cell_type": "code",
   "outputs": [],
   "source": [
    "gcloud compute instances create wwtapi-db \\\n",
    "    --zone=europe-central2-b \\\n",
    "    --machine-type=e2-small \\\n",
    "    --image-family=debian-11 \\\n",
    "    --image-project=debian-cloud \\\n",
    "    --boot-disk-size=10GB \\\n",
    "    --tags=http-server,https-server \\\n",
    "    --address=34.116.249.25"
   ],
   "metadata": {
    "collapsed": false
   },
   "id": "7f2c3fca269bba11"
  },
  {
   "cell_type": "markdown",
   "source": [
    "Firewall configuration to allow SQL connection"
   ],
   "metadata": {
    "collapsed": false
   },
   "id": "a4b6c1b3b3583eb1"
  },
  {
   "cell_type": "code",
   "outputs": [],
   "source": [
    "gcloud compute firewall-rules create allow-sql \\\n",
    "    --direction=INGRESS \\\n",
    "    --priority=1000 \\\n",
    "    --network=default \\\n",
    "    --action=ALLOW \\\n",
    "    --rules=tcp:3306 \\\n",
    "    --source-ranges=0.0.0.0/0 \\\n",
    "    --target-tags=http-server,https-server"
   ],
   "metadata": {
    "collapsed": false
   },
   "id": "3d90fed55442e8c9"
  },
  {
   "cell_type": "markdown",
   "source": [
    "Upload Dockerfile and init.sql to VM"
   ],
   "metadata": {
    "collapsed": false
   },
   "id": "65480a4e5b56deb"
  },
  {
   "cell_type": "code",
   "outputs": [],
   "source": [
    "gcloud compute scp Dockerfile init.sql wwtapi-db:~ --zone=europe-central2-b"
   ],
   "metadata": {
    "collapsed": false
   },
   "id": "5d61f93d5cfa9321"
  },
  {
   "cell_type": "markdown",
   "source": [
    "Dockerization inside VM"
   ],
   "metadata": {
    "collapsed": false
   },
   "id": "8058e65698f8563"
  },
  {
   "cell_type": "code",
   "outputs": [],
   "source": [
    "gcloud compute ssh wwtapi-db --zone=europe-central2-b"
   ],
   "metadata": {
    "collapsed": false
   },
   "id": "6e50314bab6e8ce7"
  },
  {
   "cell_type": "code",
   "outputs": [],
   "source": [
    "sudo apt-get update\n",
    "sudo apt-get install -y docker.io\n",
    "sudo systemctl start docker\n",
    "sudo systemctl enable docker\n"
   ],
   "metadata": {
    "collapsed": false
   },
   "id": "58987e5b0a162fe1"
  },
  {
   "cell_type": "markdown",
   "source": [
    "API PaaS instance creation"
   ],
   "metadata": {
    "collapsed": false
   },
   "id": "9403368a92e75fb4"
  },
  {
   "cell_type": "code",
   "outputs": [],
   "source": [
    "gcloud services enable run.googleapis.com\n",
    "\n",
    "gcloud run deploy wwtapi \\\n",
    "    --source https://github.com/redriottank/wwtapi \\\n",
    "    --region=europe-central2 \\\n",
    "    --allow-unauthenticated \\\n",
    "    --platform=managed"
   ],
   "metadata": {
    "collapsed": false
   },
   "id": "232c468baa564d54"
  },
  {
   "cell_type": "markdown",
   "source": [
    "API automatized deployment via github"
   ],
   "metadata": {
    "collapsed": false
   },
   "id": "cabd618e1a40e2b9"
  },
  {
   "cell_type": "code",
   "outputs": [],
   "source": [
    "gcloud beta builds triggers create github \\\n",
    "    --name=wwtapi-trigger \\\n",
    "    --repo-owner=redriottank \\\n",
    "    --repo-name=wwtapi \\\n",
    "    --branch-pattern=\"^master$\" \\\n",
    "    --build-config=cloudbuild.yaml\n"
   ],
   "metadata": {
    "collapsed": false
   },
   "id": "91179af5dc6d418"
  }
 ],
 "metadata": {
  "kernelspec": {
   "display_name": "Python 3",
   "language": "python",
   "name": "python3"
  },
  "language_info": {
   "codemirror_mode": {
    "name": "ipython",
    "version": 2
   },
   "file_extension": ".py",
   "mimetype": "text/x-python",
   "name": "python",
   "nbconvert_exporter": "python",
   "pygments_lexer": "ipython2",
   "version": "2.7.6"
  }
 },
 "nbformat": 4,
 "nbformat_minor": 5
}
